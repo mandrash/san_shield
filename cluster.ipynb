{
 "cells": [
  {
   "cell_type": "code",
   "execution_count": 7,
   "id": "initial_id",
   "metadata": {
    "collapsed": true,
    "ExecuteTime": {
     "end_time": "2025-09-01T13:17:50.074768Z",
     "start_time": "2025-09-01T13:17:50.072232Z"
    }
   },
   "outputs": [],
   "source": [
    "import pandas as pd\n",
    "from pathlib import Path\n",
    "from sklearn.cluster import KMeans\n",
    "from sklearn.metrics import silhouette_score, calinski_harabasz_score\n",
    "from sklearn.preprocessing import normalize\n",
    "import plotly.express as px"
   ]
  },
  {
   "cell_type": "code",
   "outputs": [],
   "source": [
    "BASE = Path(\"input\")\n",
    "OUT = Path(\"output\")\n",
    "OUT.mkdir(parents=True, exist_ok=True)"
   ],
   "metadata": {
    "collapsed": false,
    "ExecuteTime": {
     "end_time": "2025-09-01T13:17:50.077002Z",
     "start_time": "2025-09-01T13:17:50.074435Z"
    }
   },
   "id": "61d3f00281d2540c",
   "execution_count": 8
  },
  {
   "cell_type": "code",
   "outputs": [],
   "source": [
    "# Загружаем CSV-файл\n",
    "df = pd.read_csv(BASE / \"Outbreaks.csv\")\n",
    "\n",
    "# Приводим названия колонок к нижнему регистру\n",
    "df = df.rename(columns={\"Country\":\"country\",\"Year\":\"year\",\"Disease\":\"disease\",\"iso3\":\"iso3\"})\n",
    "\n",
    "# Удаляем строки без iso3 или disease\n",
    "df = df.dropna(subset=[\"iso3\",\"disease\"])\n",
    "\n",
    "# Строим сводную таблицу: сколько раз каждая болезнь была зафиксирована в каждой стране\n",
    "pivot = (\n",
    "    df.groupby([\"iso3\",\"disease\"]).size().rename(\"cnt\").reset_index()\n",
    "      .pivot_table(index=\"iso3\", columns=\"disease\", values=\"cnt\", fill_value=0)\n",
    ")\n",
    "\n",
    "# Нормализуем по L2-норме по строкам (странам)\n",
    "pivot_norm = pd.DataFrame(normalize(pivot, norm=\"l2\"), index=pivot.index, columns=pivot.columns)\n",
    "\n",
    "# Количество кластеров\n",
    "k = 5\n",
    "\n",
    "# Обучаем KMeans\n",
    "km = KMeans(n_clusters=k, random_state=42, n_init=10)\n",
    "labels = km.fit_predict(pivot_norm.values)\n",
    "\n",
    "# Вычисляем метрики качества кластеризации\n",
    "sil = float(silhouette_score(pivot_norm.values, labels))\n",
    "ch  = float(calinski_harabasz_score(pivot_norm.values, labels))\n",
    "\n",
    "# Сохраняем метки кластеров в файл\n",
    "clusters = pd.DataFrame({\"iso3\": pivot_norm.index, \"cluster\": labels})\n",
    "clusters.to_csv(OUT / \"country_profiles_clusters.csv\", index=False)\n",
    "\n",
    "# Рисуем хлороплет-карту с кластерами\n",
    "fig = px.choropleth(\n",
    "    clusters, locations=\"iso3\", color=\"cluster\",\n",
    "    locationmode=\"ISO-3\", color_continuous_scale=\"Viridis\",\n",
    "    title=f\"Эпидемиологические профили стран (кластеры k={k})\"\n",
    ")\n",
    "fig.update_layout(margin=dict(l=0,r=0,t=50,b=0))\n",
    "\n",
    "# Сохраняем карту в HTML\n",
    "map_path = OUT / \"country_profiles_map.html\"\n",
    "fig.write_html(map_path, include_plotlyjs=\"cdn\")\n",
    "\n",
    "# Сохраняем метрики в текстовый файл\n",
    "with open(OUT / \"country_profiles_metrics.txt\",\"w\") as f:\n",
    "    f.write(f\"k={k}\\nSilhouette={sil:.3f}\\nCalinski-Harabasz={ch:.0f}\\n\")"
   ],
   "metadata": {
    "collapsed": false,
    "ExecuteTime": {
     "end_time": "2025-09-01T13:17:50.169942Z",
     "start_time": "2025-09-01T13:17:50.083562Z"
    }
   },
   "id": "36e6531a37184423",
   "execution_count": 9
  }
 ],
 "metadata": {
  "kernelspec": {
   "display_name": "Python 3",
   "language": "python",
   "name": "python3"
  },
  "language_info": {
   "codemirror_mode": {
    "name": "ipython",
    "version": 2
   },
   "file_extension": ".py",
   "mimetype": "text/x-python",
   "name": "python",
   "nbconvert_exporter": "python",
   "pygments_lexer": "ipython2",
   "version": "2.7.6"
  }
 },
 "nbformat": 4,
 "nbformat_minor": 5
}
